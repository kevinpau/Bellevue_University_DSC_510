{
 "cells": [
  {
   "cell_type": "markdown",
   "metadata": {},
   "source": [
    "# Assignment 2 - Simple Types\n",
    "\n",
    "## Instructions\n",
    "\n",
    "Follow the instructions for submitting a Jupyter Notebook assignment in the submitting assignments documentation. "
   ]
  },
  {
   "cell_type": "markdown",
   "metadata": {},
   "source": [
    "## 1. Numeric Operations (20 Points)\n",
    "\n",
    "```python\n",
    "a = 402\n",
    "b = 1855\n",
    "\n",
    "x = 41.151309\n",
    "y = -95.919741\n",
    "```\n",
    "\n",
    "Given the preceding variable definitions, answer complete the questions below. \n",
    "\n",
    "a. Compute the absolute value of `y`\n",
    "\n",
    "b. Add `x` and `y` and multiple the result by `a`\n",
    "\n",
    "c. Calculate the remainder leftover after dividing `b` by `a` (i.e. `b/a`)\n",
    "\n",
    "d. Calculate `a` to the power of `3`\n",
    "\n",
    "e. Show how to convert `a` to a floating point number\n",
    "\n",
    "f. Multiple `x` by `y` and round the result to two signficant digits\n",
    "\n",
    "g. Compute the bitwise *or* of `a` and `b`\n",
    "\n",
    "h. Compute `x` divided by negative `y` \n",
    "\n",
    "i. Compute `a` added to `b` divided by `x` minus `y`\n",
    "\n",
    "j. Compute the floored quotient of `b` and `x`"
   ]
  },
  {
   "cell_type": "code",
   "execution_count": 38,
   "metadata": {},
   "outputs": [],
   "source": [
    "# define vars\n",
    "a = 402\n",
    "b = 1855\n",
    "x = 41.151309\n",
    "y = -95.919741"
   ]
  },
  {
   "cell_type": "code",
   "execution_count": 39,
   "metadata": {},
   "outputs": [
    {
     "data": {
      "text/plain": [
       "95.919741"
      ]
     },
     "execution_count": 39,
     "metadata": {},
     "output_type": "execute_result"
    }
   ],
   "source": [
    "# a. Compute the absolute value of y\n",
    "abs(y)"
   ]
  },
  {
   "cell_type": "code",
   "execution_count": 40,
   "metadata": {},
   "outputs": [
    {
     "data": {
      "text/plain": [
       "-22016.909664000003"
      ]
     },
     "execution_count": 40,
     "metadata": {},
     "output_type": "execute_result"
    }
   ],
   "source": [
    "# b. Add `x` and `y` and multiple the result by `a`\n",
    "(x+y) * a"
   ]
  },
  {
   "cell_type": "code",
   "execution_count": 41,
   "metadata": {},
   "outputs": [
    {
     "data": {
      "text/plain": [
       "0.6144278606965177"
      ]
     },
     "execution_count": 41,
     "metadata": {},
     "output_type": "execute_result"
    }
   ],
   "source": [
    "# c. Calculate the remainder leftover after dividing `b` by `a` (i.e. `b/a`)\n",
    "(b / a) - (b // a)"
   ]
  },
  {
   "cell_type": "code",
   "execution_count": 42,
   "metadata": {},
   "outputs": [
    {
     "data": {
      "text/plain": [
       "64964808"
      ]
     },
     "execution_count": 42,
     "metadata": {},
     "output_type": "execute_result"
    }
   ],
   "source": [
    "# d. Calculate `a` to the power of `3`\n",
    "a ** 3"
   ]
  },
  {
   "cell_type": "code",
   "execution_count": 43,
   "metadata": {},
   "outputs": [
    {
     "data": {
      "text/plain": [
       "402.0"
      ]
     },
     "execution_count": 43,
     "metadata": {},
     "output_type": "execute_result"
    }
   ],
   "source": [
    "# e. Show how to convert `a` to a floating point number\n",
    "float(a)"
   ]
  },
  {
   "cell_type": "code",
   "execution_count": 44,
   "metadata": {},
   "outputs": [
    {
     "data": {
      "text/plain": [
       "-3947.22"
      ]
     },
     "execution_count": 44,
     "metadata": {},
     "output_type": "execute_result"
    }
   ],
   "source": [
    "# f. Multiple `x` by `y` and round the result to two signficant digits\n",
    "round(x * y, 2)"
   ]
  },
  {
   "cell_type": "code",
   "execution_count": 45,
   "metadata": {},
   "outputs": [
    {
     "data": {
      "text/plain": [
       "1983"
      ]
     },
     "execution_count": 45,
     "metadata": {},
     "output_type": "execute_result"
    }
   ],
   "source": [
    "# g. Compute the bitwise *or* of `a` and `b`\n",
    "a | b"
   ]
  },
  {
   "cell_type": "code",
   "execution_count": 46,
   "metadata": {},
   "outputs": [
    {
     "data": {
      "text/plain": [
       "0.4290181413229629"
      ]
     },
     "execution_count": 46,
     "metadata": {},
     "output_type": "execute_result"
    }
   ],
   "source": [
    "# h. Compute `x` divided by negative `y` \n",
    "x / (-y)"
   ]
  },
  {
   "cell_type": "code",
   "execution_count": 47,
   "metadata": {},
   "outputs": [
    {
     "data": {
      "text/plain": [
       "542.9972864068789"
      ]
     },
     "execution_count": 47,
     "metadata": {},
     "output_type": "execute_result"
    }
   ],
   "source": [
    "# i. Compute `a` added to `b` divided by `x` minus `y`\n",
    "a + b / x - y"
   ]
  },
  {
   "cell_type": "code",
   "execution_count": 48,
   "metadata": {},
   "outputs": [
    {
     "data": {
      "text/plain": [
       "45"
      ]
     },
     "execution_count": 48,
     "metadata": {},
     "output_type": "execute_result"
    }
   ],
   "source": [
    "# j. Compute the floored quotient of `b` and `x`\n",
    "import math\n",
    "math.floor(b / x)"
   ]
  },
  {
   "cell_type": "markdown",
   "metadata": {},
   "source": [
    "## 2. Integer Division (2 Points)\n",
    "\n",
    "What is the difference between dividing using the `//` operator and the `/` operator?  For instance, what is the difference between `4/2` and `4//2`? "
   ]
  },
  {
   "cell_type": "markdown",
   "metadata": {},
   "source": [
    "## answer\n",
    "4 / 2 - is classic and true division, keeps floating-point numbers\n",
    "4 // 2 - is floor division, truncates fractional remainders to floor "
   ]
  },
  {
   "cell_type": "markdown",
   "metadata": {},
   "source": [
    "## 3. Number Representations (4 Points)\n",
    "\n",
    "Pick an integer number between 33 and 126.  Print the following information about this number. \n",
    "\n",
    "1. Its binary representation\n",
    "2. Its hexadecimal representation\n",
    "3. Its octal representation\n",
    "4. The character corresponding to its Unicode point code. "
   ]
  },
  {
   "cell_type": "code",
   "execution_count": 49,
   "metadata": {},
   "outputs": [],
   "source": [
    "# define var b/w 33 and 126\n",
    "rand = 100"
   ]
  },
  {
   "cell_type": "code",
   "execution_count": 50,
   "metadata": {},
   "outputs": [
    {
     "name": "stdout",
     "output_type": "stream",
     "text": [
      "0b1100100\n"
     ]
    }
   ],
   "source": [
    "# 3.1 Its binary representation\n",
    "print(bin(rand))"
   ]
  },
  {
   "cell_type": "code",
   "execution_count": 51,
   "metadata": {},
   "outputs": [
    {
     "name": "stdout",
     "output_type": "stream",
     "text": [
      "0x64\n"
     ]
    }
   ],
   "source": [
    "# 3.2 Its hexadecimal representation\n",
    "print(hex(rand))"
   ]
  },
  {
   "cell_type": "code",
   "execution_count": 52,
   "metadata": {},
   "outputs": [
    {
     "name": "stdout",
     "output_type": "stream",
     "text": [
      "0o144\n"
     ]
    }
   ],
   "source": [
    "# 3.3 Its octal representation\n",
    "print(oct(rand))"
   ]
  },
  {
   "cell_type": "code",
   "execution_count": 53,
   "metadata": {},
   "outputs": [
    {
     "data": {
      "text/plain": [
       "b'100'"
      ]
     },
     "execution_count": 53,
     "metadata": {},
     "output_type": "execute_result"
    }
   ],
   "source": [
    "# 3.4 The character corresponding to its Unicode point code\n",
    "str(rand).encode('utf8')"
   ]
  },
  {
   "cell_type": "markdown",
   "metadata": {},
   "source": [
    "## 4. Variable Assignment (4 Points)\n",
    "\n",
    "Consider the following two Python code examples. In both cases, we assign a value to variable `a`, assign variable `b` to `a` and then make changes variable `a`.  Why is it that in the first example, changes to `a` do not affect `b`, but in the second example they do? \n",
    "\n",
    "*Example 1:* \n",
    "```python\n",
    "In [1]:   a = 1\n",
    "          b = a\n",
    "          a += 1\n",
    "          print(b)\n",
    "   \n",
    "Out [1]:  1\n",
    "```\n",
    "\n",
    "*Example 2:* \n",
    "```python\n",
    "In [2]:   a = [1, 2, 3]\n",
    "          b = a\n",
    "          a.append(4)\n",
    "          print(b)\n",
    "   \n",
    "Out [2]:  [1, 2, 3, 4]\n",
    "```"
   ]
  },
  {
   "cell_type": "markdown",
   "metadata": {},
   "source": [
    "# answer\n",
    "In the first example, the variable b is pointing to the object originally created by a (the number value of 1). In the second example, list's are mutable objects that support in-place changes. Both list a and b share the list object originally created, b is not a copy of a - it is the same.\n"
   ]
  },
  {
   "cell_type": "markdown",
   "metadata": {},
   "source": [
    "## 5.  Dynamic Typing (6 Points)\n",
    "\n",
    "Static typing vs. dynamic typing is one of computer programmings most bitter \"[holy wars](http://wiki.c2.com/?HolyWar)'.  As a data scientist, it is important to understand the difference between static and dynamic typing and the pros/cons of each approach.  \n",
    "\n",
    "Answer each of the following questions in your own words.  \n",
    "\n",
    "a.  What is the difference between static and dynamic typing? \n",
    "\n",
    "b.   What are the benefits of static typing over dynamic typing? \n",
    "\n",
    "c.   What are the benefits of dynamic typing over static typing? "
   ]
  },
  {
   "cell_type": "markdown",
   "metadata": {},
   "source": [
    "# answers\n",
    "\n",
    "A. Static typing requires variables to be declared when created (e.g., int, str, etc) while dynamic typic determines the type at runtime. \n",
    "\n",
    "B. Static typing allows to determine the use and application of certain variables. For example, you have to intend to use the variable in a certain way instead of getting lucky or having uncertain results later on.\n",
    "\n",
    "C. Dynamic typing is more flexible and is more applicable in more contexts."
   ]
  },
  {
   "cell_type": "markdown",
   "metadata": {},
   "source": [
    "## 6. Garbage Collection (4 Points)\n",
    "\n",
    "a. Explain what *garbage collection* means in connection to programming languages.\n",
    "\n",
    "b. How does CPython implement garbage collection? "
   ]
  },
  {
   "cell_type": "markdown",
   "metadata": {},
   "source": [
    "# answers\n",
    "\n",
    "A. Garbage collection is a way for the programming language to clean up or free memory back to the program. \n",
    "\n",
    "B. Whenever an object is no longer refereneced the objected is deleted from the memory pool to free up more space. CPython does this automatically as part of the languages built-in features. This is very helpful for programmers not to have to get super technical to clean up as they go."
   ]
  }
 ],
 "metadata": {
  "kernelspec": {
   "display_name": "Python 3",
   "language": "python",
   "name": "python3"
  },
  "language_info": {
   "codemirror_mode": {
    "name": "ipython",
    "version": 3
   },
   "file_extension": ".py",
   "mimetype": "text/x-python",
   "name": "python",
   "nbconvert_exporter": "python",
   "pygments_lexer": "ipython3",
   "version": "3.6.5"
  }
 },
 "nbformat": 4,
 "nbformat_minor": 2
}
