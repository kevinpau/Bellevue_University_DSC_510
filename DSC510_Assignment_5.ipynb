{
 "cells": [
  {
   "cell_type": "markdown",
   "metadata": {},
   "source": [
    "# DSC510 Assignment 5\n",
    "\n",
    "# Directions \n",
    "This week we will modify our If Statement program to add a function to do the heavy lifting.\n",
    "\n",
    "Modify your IF Statement program in to add a function. This function will perform the cost calculation. The function will have two parameters (feet and price). When you call the function, you will pass two arguments to the function; feet of fiber to be installed and the cost (remember that price is dependent on the number of feet being installed).\n",
    "\n",
    "You probably should have the following:\n",
    "#1. Your program must have a header. Use the programing style guide for guidance.\n",
    "#2. A welcome message\n",
    "#3. A function with two parameters\n",
    "#4. A call to the function\n",
    "#5. The application should calculate the cost based upon the number of feet being ordered\n",
    "#6. A printed message displaying the company name and the total calculated cost\n"
   ]
  },
  {
   "cell_type": "code",
   "execution_count": 15,
   "metadata": {},
   "outputs": [],
   "source": [
    "# File:   DSC510_Assignment_5.py\n",
    "# Name:   Kevin Paulovici\n",
    "# Date:   1/12/19\n",
    "# Course: DSC 510 - Introduction to Programming\n",
    "# School: Bellevue University\n",
    "# Desc:   This module is for week 5 programming assignment.\n",
    "# completes: #1"
   ]
  },
  {
   "cell_type": "code",
   "execution_count": 16,
   "metadata": {},
   "outputs": [],
   "source": [
    "# Function: main\n",
    "#\n",
    "# Parameter:\n",
    "#   In:     none\n",
    "#   Out:    none\n",
    "# Returns:  none\n",
    "#\n",
    "# Desc:     main block of code to be executed\n",
    "# Completes: #4\n",
    "def main():\n",
    "    welcome()\n",
    "    name, feet = customer_data()\n",
    "    tot_cost, install_rate = calc_cost(feet)\n",
    "    print_date(name, install_rate, feet, tot_cost)"
   ]
  },
  {
   "cell_type": "code",
   "execution_count": 17,
   "metadata": {},
   "outputs": [],
   "source": [
    "# Function: welcome\n",
    "#\n",
    "# Parameter:\n",
    "#   In:     none\n",
    "#   Out:    none\n",
    "# Returns:  none\n",
    "#\n",
    "# Desc:     simple function to welcome the user (customer)\n",
    "# Completes: #2\n",
    "def welcome():\n",
    "    print(\"\"\"\n",
    "    ###########################################\n",
    "    ##                                       ##\n",
    "    ##   Welcome to Fiber Optic Installs     ##\n",
    "    ##                                       ##\n",
    "    ##   We offer the following rates:       ##\n",
    "    ##   $0.87/foot                          ##\n",
    "    ##   $0.80/foot for 100 feet or more     ##\n",
    "    ##   $0.70/foot for 250 feet or more     ## \n",
    "    ##   $0.50/foot for 500 feet or more     ##\n",
    "    ##                                       ##\n",
    "    ###########################################\n",
    "    \"\"\")"
   ]
  },
  {
   "cell_type": "code",
   "execution_count": 18,
   "metadata": {},
   "outputs": [],
   "source": [
    "# Function: print_data\n",
    "#\n",
    "# Parameter:\n",
    "#   In:     name, install_rate, feet, tot_cost\n",
    "#   Out:    none\n",
    "# Returns:  none\n",
    "#\n",
    "# Desc:     print statements to the user\n",
    "# Completes: #3,6\n",
    "def print_date(name, install_rate, feet, tot_cost):\n",
    "    print(\"Welcome {}, your installation rate is ${:0.2f}/ft.\"\n",
    "          .format(name, install_rate))\n",
    "    print(\"Based on your installation length of {:0.2f} ft, \\nyour total cost\"\n",
    "          \" will be: ${:0.2f}.\".format(feet, tot_cost))"
   ]
  },
  {
   "cell_type": "code",
   "execution_count": 19,
   "metadata": {},
   "outputs": [],
   "source": [
    "# Function: customer_data\n",
    "#\n",
    "# Parameter:\n",
    "#   In:     none\n",
    "#   Out:    none\n",
    "# Returns:  company_name - company input from customer\n",
    "#           cable_feet - customer input of cable length (ft)\n",
    "#\n",
    "# Desc: Customer information requested\n",
    "def customer_data():\n",
    "    # waiting for user input\n",
    "    company_name = input(\"What is your company name? \")\n",
    "    while True:\n",
    "        cable_feet = input(\"Enter the number of feet to be installed: \")\n",
    "\n",
    "        # test cable_feet\n",
    "        try:\n",
    "            if float(cable_feet) > 0: break\n",
    "            elif float(cable_feet) < 0:\n",
    "                print(\"Length was not positive, converting to positive\")\n",
    "                break\n",
    "        except:\n",
    "            print(\"Cable feet was not a number.\",\n",
    "                  \" Please enter a valid number\")\n",
    "\n",
    "    return company_name, abs(float(cable_feet))"
   ]
  },
  {
   "cell_type": "code",
   "execution_count": 20,
   "metadata": {},
   "outputs": [],
   "source": [
    "# Function: calc_cost\n",
    "#\n",
    "# Parameter:\n",
    "#   In:     input_length - supplied by customer\n",
    "#   Out:    none\n",
    "# Returns:  cost - input_length * price\n",
    "#           price - determined based on length\n",
    "#\n",
    "# Desc:     determine cost and price\n",
    "# Completes: #5\n",
    "def calc_cost(input_length):\n",
    "    # set price based on length\n",
    "    if input_length < 100:\n",
    "        price = 0.87\n",
    "    elif input_length < 250:\n",
    "        price = 0.80\n",
    "    elif input_length < 500:\n",
    "        price = 0.70\n",
    "    else:\n",
    "        price = 0.50\n",
    "\n",
    "    cost = price*input_length\n",
    "\n",
    "    return cost, price"
   ]
  },
  {
   "cell_type": "code",
   "execution_count": 21,
   "metadata": {},
   "outputs": [
    {
     "name": "stdout",
     "output_type": "stream",
     "text": [
      "\n",
      "    ###########################################\n",
      "    ##                                       ##\n",
      "    ##   Welcome to Fiber Optic Installs     ##\n",
      "    ##                                       ##\n",
      "    ##   We offer the following rates:       ##\n",
      "    ##   $0.87/foot                          ##\n",
      "    ##   $0.80/foot for 100 feet or more     ##\n",
      "    ##   $0.70/foot for 250 feet or more     ## \n",
      "    ##   $0.50/foot for 500 feet or more     ##\n",
      "    ##                                       ##\n",
      "    ###########################################\n",
      "    \n",
      "What is your company name? Big Corp. 2.0\n",
      "Enter the number of feet to be installed: 9000\n",
      "Welcome Big Corp. 2.0, your installation rate is $0.50/ft.\n",
      "Based on your installation length of 9000.00 ft, \n",
      "your total cost will be: $4500.00.\n"
     ]
    }
   ],
   "source": [
    "# RUN THE CODE\n",
    "main()"
   ]
  }
 ],
 "metadata": {
  "kernelspec": {
   "display_name": "Python 3",
   "language": "python",
   "name": "python3"
  },
  "language_info": {
   "codemirror_mode": {
    "name": "ipython",
    "version": 3
   },
   "file_extension": ".py",
   "mimetype": "text/x-python",
   "name": "python",
   "nbconvert_exporter": "python",
   "pygments_lexer": "ipython3",
   "version": "3.6.5"
  }
 },
 "nbformat": 4,
 "nbformat_minor": 2
}
