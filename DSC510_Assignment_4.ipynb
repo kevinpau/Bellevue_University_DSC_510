{
 "cells": [
  {
   "cell_type": "markdown",
   "metadata": {},
   "source": [
    "Week 4 Assignment\n",
    "\n",
    "This week we will implement “if statements” in a program.  Your program will calculate the cost of  fiber optic cable installation by multiplying the number of feet needed by $.87.  We will also evaluate a bulk discount.  You will prompt the user for the number of fiber optic cable they need installed.  Using the default value of $.87 calculate the total expense.  If the user purchases more than 100 feet they are charged $.80 per foot.  If the user purchases more than 250 feet they will be charged $.70 per foot.  If they purchase more than 500 feet they will be charged $.50 per foot.\n",
    "\n",
    "    Display a welcome message for your program. \n",
    "    Get the company name from the user\n",
    "    Get the number of feet of fiber optic cable to be installed from the user\n",
    "    Evaluate the total cost based upon the number of feet requested.\n",
    "    Display the calculated information including the number of feet requested and company name."
   ]
  },
  {
   "cell_type": "code",
   "execution_count": 2,
   "metadata": {},
   "outputs": [],
   "source": [
    "# Welcome Message\n",
    "def welcome():\n",
    "    print(\"\"\"\n",
    "    ###########################################\n",
    "    ##                                       ##\n",
    "    ##   Welcome to Fiber Optic Installs     ##\n",
    "    ##                                       ##\n",
    "    ##   We offer the following rates:       ##\n",
    "    ##   $0.87/foot                          ##\n",
    "    ##   $0.80/foot for 100 feet or more     ##\n",
    "    ##   $0.70/foot for 250 feet or more     ## \n",
    "    ##   $0.50/foot for 500 feet or more     ##\n",
    "    ##                                       ##\n",
    "    ###########################################\n",
    "    \"\"\")"
   ]
  },
  {
   "cell_type": "code",
   "execution_count": 3,
   "metadata": {},
   "outputs": [],
   "source": [
    "# Customer information requested\n",
    "def customer_data():\n",
    "    # waiting for user input\n",
    "    company_name = input(\"What is your company name? \")\n",
    "    while True:\n",
    "        cable_feet = input(\"Enter the number of feet to be installed: \")\n",
    "\n",
    "        # test cable_feet\n",
    "        try:\n",
    "            if float(cable_feet): break\n",
    "        except:\n",
    "            print(\"Cable feet was not a number.\",\n",
    "                  \" Please enter a valid number\")\n",
    "\n",
    "    return company_name, float(cable_feet)"
   ]
  },
  {
   "cell_type": "code",
   "execution_count": 4,
   "metadata": {},
   "outputs": [],
   "source": [
    "# determine total cost\n",
    "def calc_cost(input_length):\n",
    "    # set price based on length\n",
    "    if input_length < 100:\n",
    "        price = 0.87\n",
    "    elif input_length < 250:\n",
    "        price = 0.80\n",
    "    elif input_length < 500:\n",
    "        price = 0.70\n",
    "    else:\n",
    "        price = 0.50\n",
    "\n",
    "    # input_length * price = cost\n",
    "    cost = price*input_length\n",
    "\n",
    "    return cost, price"
   ]
  },
  {
   "cell_type": "code",
   "execution_count": 7,
   "metadata": {},
   "outputs": [
    {
     "name": "stdout",
     "output_type": "stream",
     "text": [
      "\n",
      "    ###########################################\n",
      "    ##                                       ##\n",
      "    ##   Welcome to Fiber Optic Installs     ##\n",
      "    ##                                       ##\n",
      "    ##   We offer the following rates:       ##\n",
      "    ##   $0.87/foot                          ##\n",
      "    ##   $0.80/foot for 100 feet or more     ##\n",
      "    ##   $0.70/foot for 250 feet or more     ## \n",
      "    ##   $0.50/foot for 500 feet or more     ##\n",
      "    ##                                       ##\n",
      "    ###########################################\n",
      "    \n",
      "What is your company name? Big Corp.\n",
      "Enter the number of feet to be installed: 9000\n",
      "Welcome Big Corp., your installation rate is $0.50/foot.\n",
      "At a length of 9000.00 feet, your total cost will be: $4500.00.\n"
     ]
    }
   ],
   "source": [
    "# RUN THE CODE\n",
    "welcome()\n",
    "name, length = customer_data()\n",
    "tot_cost, install_rate = calc_cost(length)\n",
    "\n",
    "print(\"Welcome {}, your installation rate is ${:0.2f}/foot.\".format(name, install_rate))\n",
    "print(\"At a length of {:0.2f} feet, your total cost will be: ${:0.2f}.\".format(length, tot_cost))\n",
    "\n",
    "# PDF cuts off the .format of the prints\n",
    "# format(name, install_rate)) -- Print 1\n",
    "# format(length, tot_cost))   -- Print 2"
   ]
  },
  {
   "cell_type": "code",
   "execution_count": null,
   "metadata": {},
   "outputs": [],
   "source": []
  }
 ],
 "metadata": {
  "kernelspec": {
   "display_name": "Python 3",
   "language": "python",
   "name": "python3"
  },
  "language_info": {
   "codemirror_mode": {
    "name": "ipython",
    "version": 3
   },
   "file_extension": ".py",
   "mimetype": "text/x-python",
   "name": "python",
   "nbconvert_exporter": "python",
   "pygments_lexer": "ipython3",
   "version": "3.6.5"
  }
 },
 "nbformat": 4,
 "nbformat_minor": 2
}
